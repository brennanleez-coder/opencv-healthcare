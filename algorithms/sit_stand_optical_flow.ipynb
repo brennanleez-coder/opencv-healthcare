{
 "cells": [
  {
   "cell_type": "code",
   "execution_count": 1,
   "metadata": {},
   "outputs": [],
   "source": [
    "import cv2\n",
    "import numpy as np\n",
    "import mediapipe as mp\n",
    "from matplotlib import pyplot as plt\n"
   ]
  },
  {
   "cell_type": "code",
   "execution_count": 2,
   "metadata": {},
   "outputs": [],
   "source": [
    "def calculate_angle(a, b, c):\n",
    "    a = np.array(a)  # First\n",
    "    b = np.array(b)  # Mid\n",
    "    c = np.array(c)  # End\n",
    "    radians = np.arctan2(c[1] - b[1], c[0] - b[0]) - np.arctan2(a[1] - b[1], a[0] - b[0])\n",
    "    angle = np.abs(radians * 180.0 / np.pi)\n",
    "    if angle > 180.0:\n",
    "        angle = 360 - angle\n",
    "    return angle\n"
   ]
  },
  {
   "cell_type": "code",
   "execution_count": 4,
   "metadata": {},
   "outputs": [
    {
     "name": "stderr",
     "output_type": "stream",
     "text": [
      "I0000 00:00:1715790970.687597 10306981 gl_context.cc:357] GL version: 2.1 (2.1 ATI-5.2.4), renderer: AMD Radeon Pro 5500M OpenGL Engine\n"
     ]
    },
    {
     "name": "stdout",
     "output_type": "stream",
     "text": [
      "Video FPS: 30.0\n"
     ]
    }
   ],
   "source": [
    "mp_pose = mp.solutions.pose\n",
    "pose = mp_pose.Pose(min_detection_confidence=0.5, min_tracking_confidence=0.5)\n",
    "\n",
    "cap = cv2.VideoCapture(\"../test/30CST.mp4\")\n",
    "ret, old_frame = cap.read()\n",
    "if not ret:\n",
    "    print(\"Failed to load video.\")\n",
    "    cap.release()\n",
    "    exit()\n",
    "\n",
    "old_gray = cv2.cvtColor(old_frame, cv2.COLOR_BGR2GRAY)\n",
    "lk_params = {\n",
    "    'winSize': (15, 15),\n",
    "    'maxLevel': 2,\n",
    "    'criteria': (cv2.TERM_CRITERIA_EPS | cv2.TERM_CRITERIA_COUNT, 10, 0.03)\n",
    "}\n",
    "# Initialize lists to store keypoint data for displacement and velocity analysis\n",
    "keypoints_history = []\n",
    "displacements = [] #in pixels\n",
    "velocities = [] #in pixels per second\n",
    "\n",
    "# Get FPS of the video\n",
    "fps = cap.get(cv2.CAP_PROP_FPS)\n",
    "time_interval = 1 / fps\n",
    "print(f\"Video FPS: {fps}\")\n",
    "\n",
    "while cap.isOpened():\n",
    "    ret, frame = cap.read()\n",
    "    if not ret:\n",
    "        cap.release()\n",
    "        \n",
    "        break\n",
    "\n",
    "    # Convert BGR to RGB\n",
    "    rgb_image = cv2.cvtColor(frame, cv2.COLOR_BGR2RGB)\n",
    "\n",
    "    # Process image for pose\n",
    "    results = pose.process(rgb_image)\n",
    "\n",
    "    # Convert back to BGR for visualization, important for other CV operations to work\n",
    "    annotated_image = cv2.cvtColor(rgb_image, cv2.COLOR_RGB2BGR)\n",
    "\n",
    "    if results.pose_landmarks:\n",
    "        # Extract keypoints\n",
    "        landmarks = results.pose_landmarks.landmark\n",
    "        hip = [int(landmarks[mp_pose.PoseLandmark.LEFT_HIP.value].x * frame.shape[1]),\n",
    "               int(landmarks[mp_pose.PoseLandmark.LEFT_HIP.value].y * frame.shape[0])]\n",
    "        knee = [int(landmarks[mp_pose.PoseLandmark.LEFT_KNEE.value].x * frame.shape[1]),\n",
    "                int(landmarks[mp_pose.PoseLandmark.LEFT_KNEE.value].y * frame.shape[0])]\n",
    "        ankle = [int(landmarks[mp_pose.PoseLandmark.LEFT_ANKLE.value].x * frame.shape[1]),\n",
    "                 int(landmarks[mp_pose.PoseLandmark.LEFT_ANKLE.value].y * frame.shape[0])]\n",
    "        keypoints = np.array([hip, knee, ankle], dtype=np.float32).reshape(-1, 1, 2)\n",
    "        # keypoints is a 3D array of shape (3, 1, 2) where each element is a 2D array of shape (1, 2)\n",
    "        # [\n",
    "        #     [[x_hip, y_hip]],\n",
    "        #     [[x_knee, y_knee]],\n",
    "        #     [[x_ankle, y_ankle]]\n",
    "        # ]\n",
    "\n",
    "        # Optical flow\n",
    "        frame_gray = cv2.cvtColor(frame, cv2.COLOR_BGR2GRAY)\n",
    "        p1, st, err = cv2.calcOpticalFlowPyrLK(old_gray, frame_gray, keypoints, None, **lk_params)\n",
    "        \n",
    "        if keypoints_history:\n",
    "            last_keypoints = keypoints_history[-1]\n",
    "            for i, (new, old) in enumerate(zip(p1, last_keypoints)):\n",
    "                displacement = np.linalg.norm(new - old)\n",
    "                displacements.append(displacement)\n",
    "                if len(displacements) > 1:\n",
    "                    velocity = (displacements[-1] - displacements[-2]) / time_interval \n",
    "                    velocities.append(velocity)\n",
    "\n",
    "        keypoints_history.append(p1.copy())\n",
    "        \n",
    "        # Draw optical flow tracks\n",
    "        for i, (new, old) in enumerate(zip(p1, keypoints)):\n",
    "            a, b = new.ravel().astype(int)\n",
    "            c, d = old.ravel().astype(int)\n",
    "            cv2.line(annotated_image, (a, b), (c, d), (0, 255, 0), 2)\n",
    "            cv2.circle(annotated_image, (a, b), 5, (0, 0, 255), -1)\n",
    "\n",
    "        # Update previous frame and points for next iteration\n",
    "        old_gray = frame_gray.copy()\n",
    "        keypoints = p1.copy()\n",
    "\n",
    "    # Display the frame\n",
    "    cv2.imshow('Mediapipe Feed', annotated_image)\n",
    "    if cv2.waitKey(10) & 0xFF == ord('q'):\n",
    "        break\n",
    "cap.release()\n",
    "cv2.destroyAllWindows()\n"
   ]
  },
  {
   "cell_type": "code",
   "execution_count": 6,
   "metadata": {},
   "outputs": [
    {
     "data": {
      "text/plain": [
       "array([[[ 905.94904, 1431.8617 ]],\n",
       "\n",
       "       [[ 596.29346, 1446.9176 ]],\n",
       "\n",
       "       [[ 599.96277, 1754.2441 ]]], dtype=float32)"
      ]
     },
     "execution_count": 6,
     "metadata": {},
     "output_type": "execute_result"
    }
   ],
   "source": [
    "# keypoints_history\n",
    "keypoints\n",
    "# displacements\n",
    "# velocities"
   ]
  },
  {
   "cell_type": "code",
   "execution_count": null,
   "metadata": {},
   "outputs": [],
   "source": []
  }
 ],
 "metadata": {
  "kernelspec": {
   "display_name": ".venv",
   "language": "python",
   "name": "python3"
  },
  "language_info": {
   "codemirror_mode": {
    "name": "ipython",
    "version": 3
   },
   "file_extension": ".py",
   "mimetype": "text/x-python",
   "name": "python",
   "nbconvert_exporter": "python",
   "pygments_lexer": "ipython3",
   "version": "3.11.9"
  }
 },
 "nbformat": 4,
 "nbformat_minor": 2
}
